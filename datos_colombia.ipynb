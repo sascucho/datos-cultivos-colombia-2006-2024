{
  "nbformat": 4,
  "nbformat_minor": 0,
  "metadata": {
    "colab": {
      "provenance": [],
      "mount_file_id": "1gB44oXYP_kTbtRwvne652aJPVAuVC6NS",
      "authorship_tag": "ABX9TyOf8kGD1Y9EfVHrf7s9o5aB",
      "include_colab_link": true
    },
    "kernelspec": {
      "name": "python3",
      "display_name": "Python 3"
    },
    "language_info": {
      "name": "python"
    }
  },
  "cells": [
    {
      "cell_type": "markdown",
      "metadata": {
        "id": "view-in-github",
        "colab_type": "text"
      },
      "source": [
        "<a href=\"https://colab.research.google.com/github/sascucho/datos-cultivos-colombia-2006-2024/blob/main/datos_colombia.ipynb\" target=\"_parent\"><img src=\"https://colab.research.google.com/assets/colab-badge.svg\" alt=\"Open In Colab\"/></a>"
      ]
    },
    {
      "cell_type": "code",
      "execution_count": 47,
      "metadata": {
        "id": "vHl3S4dcEQZU"
      },
      "outputs": [],
      "source": [
        "import pandas as pd\n",
        "import os"
      ]
    },
    {
      "cell_type": "code",
      "source": [
        "datos1 = pd.read_excel(\"/content/drive/MyDrive/CIENCIA DE DATOS ANDRES NIÑO/COLOMBIA/datos/datos_2006_2018.xlsx\")\n",
        "datos1.head()"
      ],
      "metadata": {
        "id": "Az7addPxIAOb"
      },
      "execution_count": null,
      "outputs": []
    },
    {
      "cell_type": "code",
      "source": [
        "datos1.shape"
      ],
      "metadata": {
        "colab": {
          "base_uri": "https://localhost:8080/"
        },
        "id": "l2QhIV4OpeZl",
        "outputId": "0917d0f6-372b-4ed3-974a-de1c75844f1e"
      },
      "execution_count": 56,
      "outputs": [
        {
          "output_type": "execute_result",
          "data": {
            "text/plain": [
              "(210847, 17)"
            ]
          },
          "metadata": {},
          "execution_count": 56
        }
      ]
    },
    {
      "cell_type": "code",
      "source": [
        "datos2 = pd.read_excel(\"/content/drive/MyDrive/CIENCIA DE DATOS ANDRES NIÑO/COLOMBIA/datos/datos_2019_2024.xlsx\")\n",
        "datos2.head()\n"
      ],
      "metadata": {
        "id": "bd7lMfzBIY-0"
      },
      "execution_count": null,
      "outputs": []
    },
    {
      "cell_type": "code",
      "source": [
        "datos2.shape"
      ],
      "metadata": {
        "colab": {
          "base_uri": "https://localhost:8080/"
        },
        "id": "v6WLVFF1qjhd",
        "outputId": "2b5e800a-9eb6-444b-cb0d-76fc45dcc391"
      },
      "execution_count": 51,
      "outputs": [
        {
          "output_type": "execute_result",
          "data": {
            "text/plain": [
              "(141073, 17)"
            ]
          },
          "metadata": {},
          "execution_count": 51
        }
      ]
    },
    {
      "cell_type": "code",
      "source": [
        "datos1.shape[0] + datos2.shape[0]"
      ],
      "metadata": {
        "colab": {
          "base_uri": "https://localhost:8080/"
        },
        "id": "XzRu0vG4qmcc",
        "outputId": "6081f7ab-74ea-4557-e3b0-ddb7c44aaea2"
      },
      "execution_count": 52,
      "outputs": [
        {
          "output_type": "execute_result",
          "data": {
            "text/plain": [
              "351920"
            ]
          },
          "metadata": {},
          "execution_count": 52
        }
      ]
    },
    {
      "cell_type": "markdown",
      "source": [
        "6. CONCATENAR"
      ],
      "metadata": {
        "id": "UProJSWULfcg"
      }
    },
    {
      "cell_type": "code",
      "source": [
        "print(\"Columns in datos1:\", datos1.columns.tolist())\n",
        "print(\"Columns in datos2:\", datos2.columns.tolist())\n",
        "\n",
        "datos2.columns = datos1.columns[:len(datos2.columns)]\n",
        "\n",
        "datos_colombia_consolidado = pd.concat([datos1, datos2], ignore_index=True)\n",
        "\n",
        "output_dir = \"/content/drive/MyDrive/CIENCIA DE DATOS ANDRES NIÑO/COLOMBIA/datos\"\n",
        "os.makedirs(output_dir, exist_ok=True)\n",
        "\n",
        "output_path = os.path.join(output_dir, \"datos_2006_2024.xlsx\")\n",
        "datos_colombia_consolidado.to_excel(output_path, index=False)\n",
        "\n",
        "print(f\"Data concatenated and saved to {output_path}\")"
      ],
      "metadata": {
        "colab": {
          "base_uri": "https://localhost:8080/"
        },
        "id": "pSzbDRFhIjbC",
        "outputId": "359d8bd3-8546-4090-b71e-58c99f44d6d1"
      },
      "execution_count": 57,
      "outputs": [
        {
          "output_type": "stream",
          "name": "stdout",
          "text": [
            "Columns in datos1: ['Código Dane departamento', 'Departamento', 'Código Dane municipio', 'Municipio', 'Grupo cultivo', 'Subgrupo', 'Cultivo', 'Desagregación cultivo', 'Año', 'Periodo', 'Área sembrada (ha)', 'Área cosechada (ha)', 'Producción (t)', 'Rendimiento (t/ha)', 'Estado físico del cultivo', 'Nombre científico del cultivo', 'Ciclo del cultivo']\n",
            "Columns in datos2: ['Código Dane departamento', 'Departamento', 'Código Dane municipio', 'Municipio', 'Grupo cultivo', 'Subgrupo', 'Cultivo', 'Desagregación cultivo', 'Año', 'Periodo', 'Área sembrada (ha)', 'Área cosechada (ha)', 'Producción (t)', 'Rendimiento (t/ha)', 'Estado físico del cultivo', 'Nombre científico del cultivo', 'Ciclo del cultivo']\n",
            "Data concatenated and saved to /content/drive/MyDrive/CIENCIA DE DATOS ANDRES NIÑO/COLOMBIA/datos/datos_2006_2024.xlsx\n"
          ]
        }
      ]
    },
    {
      "cell_type": "markdown",
      "source": [
        "## **7. Revisar y garantizar homogeneidad en Departamento y Cultivo**"
      ],
      "metadata": {
        "id": "pDtFOKRGLln6"
      }
    },
    {
      "cell_type": "code",
      "metadata": {
        "id": "a6e77769"
      },
      "source": [
        "%pip install unidecode"
      ],
      "execution_count": null,
      "outputs": []
    },
    {
      "cell_type": "code",
      "metadata": {
        "id": "b742f804"
      },
      "source": [
        "%pip install fuzzywuzzy python-Levenshtein"
      ],
      "execution_count": null,
      "outputs": []
    },
    {
      "cell_type": "code",
      "metadata": {
        "id": "9a362ddc"
      },
      "source": [
        "import pandas as pd\n",
        "import unidecode\n",
        "import re\n",
        "import os\n",
        "from fuzzywuzzy import process\n",
        "\n",
        "# Load the consolidated file\n",
        "file_path = \"/content/drive/MyDrive/CIENCIA DE DATOS ANDRES NIÑO/COLOMBIA/datos/datos_2006_2024.xlsx\"\n",
        "df = pd.read_excel(file_path)\n",
        "\n",
        "# Show initial unique values of Cultivo\n",
        "print(\"Valores únicos iniciales en 'Cultivo':\")\n",
        "display(df['Cultivo'].unique())\n",
        "\n",
        "# Function to normalize text (reusing the previously defined function)\n",
        "def normalize_text_upper(text):\n",
        "    if isinstance(text, str):\n",
        "        # Remove accents, convert to uppercase, remove extra spaces and special characters\n",
        "        text = unidecode.unidecode(text).upper()\n",
        "        text = re.sub(r'[^A-Z0-9\\s]', '', text) # Keep only uppercase letters, numbers, and spaces\n",
        "        text = re.sub(r'\\s+', ' ', text).strip() # Replace multiple spaces with single space and strip\n",
        "        return text\n",
        "    return text\n",
        "\n",
        "# Apply normalization to 'Cultivo' column\n",
        "df['Cultivo_normalized'] = df['Cultivo'].apply(normalize_text_upper)\n",
        "\n",
        "print(\"\\nValores normalizados en 'Cultivo_normalized' (primeras filas):\")\n",
        "display(df[['Cultivo', 'Cultivo_normalized']].head())\n",
        "\n",
        "print(\"\\nValores únicos después de la normalización:\")\n",
        "display(df['Cultivo_normalized'].unique())"
      ],
      "execution_count": null,
      "outputs": []
    },
    {
      "cell_type": "code",
      "metadata": {
        "colab": {
          "base_uri": "https://localhost:8080/"
        },
        "id": "7f30bde7",
        "outputId": "b17eb44e-13f7-498f-908e-a41ad3248ede"
      },
      "source": [
        "# Specify the output directory and filename\n",
        "output_dir = \"/content/drive/MyDrive/CIENCIA DE DATOS ANDRES NIÑO/COLOMBIA/datos\"\n",
        "output_filename = \"datos_2006_2024_limpio.xlsx\"\n",
        "output_path = os.path.join(output_dir, output_filename)\n",
        "\n",
        "# Create the directory if it doesn't exist\n",
        "os.makedirs(output_dir, exist_ok=True)\n",
        "\n",
        "# Save the dataframe to an Excel file\n",
        "df.to_excel(output_path, index=False)\n",
        "\n",
        "print(f\"La base de datos corregida ha sido guardada en: {output_path}\")"
      ],
      "execution_count": 8,
      "outputs": [
        {
          "output_type": "stream",
          "name": "stdout",
          "text": [
            "La base de datos corregida ha sido guardada en: /content/drive/MyDrive/CIENCIA DE DATOS ANDRES NIÑO/COLOMBIA/datos/datos_2006_2024_limpio.xlsx\n"
          ]
        }
      ]
    },
    {
      "cell_type": "markdown",
      "source": [
        "### **8.Análisis Exploratorio de los Datos (2006–2024)**"
      ],
      "metadata": {
        "id": "LWmc8Om20pG8"
      }
    },
    {
      "cell_type": "code",
      "source": [
        "datos3 = pd.read_excel(\"/content/drive/MyDrive/CIENCIA DE DATOS ANDRES NIÑO/COLOMBIA/datos/datos_2006_2024_limpio.xlsx\")\n",
        "datos3.head()"
      ],
      "metadata": {
        "id": "YIEfbKWj1apb"
      },
      "execution_count": null,
      "outputs": []
    },
    {
      "cell_type": "code",
      "source": [
        "import matplotlib.pyplot as plt\n",
        "import seaborn as sns\n",
        "import pandas as pd\n",
        "\n",
        "# Load the dataframe again to ensure we are using the latest version (optional, but good practice)\n",
        "# file_path = \"/content/drive/MyDrive/CIENCIA DE DATOS ANDRES NIÑO/COLOMBIA/datos/datos_2006_2024_limpio.xlsx\"\n",
        "# datos3 = pd.read_excel(file_path)\n",
        "\n",
        "# 1. Cantidad de filas y columnas\n",
        "num_rows = datos3.shape[0]\n",
        "num_cols = datos3.shape[1]\n",
        "print(f\"Cantidad de filas: {num_rows}\")\n",
        "print(f\"Cantidad de columnas: {num_cols}\")\n",
        "\n",
        "# 2. Cantidad de datos faltantes por columna\n",
        "print(\"\\nCantidad de datos faltantes por columna:\")\n",
        "missing_data = datos3.isnull().sum().sort_values(ascending=False)\n",
        "display(missing_data[missing_data > 0])\n",
        "\n",
        "# 3. Número total de cultivos únicos y lista de ellos (using the normalized column)\n",
        "unique_cultivo_count = datos3['Cultivo_normalized'].nunique()\n",
        "print(f\"\\nNúmero total de cultivos únicos (normalizados): {unique_cultivo_count}\")\n",
        "print(\"\\nLista de cultivos únicos (normalizados):\")\n",
        "display(datos3['Cultivo_normalized'].unique())\n",
        "\n",
        "\n",
        "# 4. Gráfico de los 10 cultivos con mayor área sembrada\n",
        "\n",
        "# Convert 'Área sembrada (ha)' to numeric, coercing errors to NaN\n",
        "datos3['Área sembrada (ha)'] = pd.to_numeric(datos3['Área sembrada (ha)'], errors='coerce')\n",
        "\n",
        "# Fill NaN values in 'Área sembrada (ha)' with 0 (assuming missing area means no area sembrada)\n",
        "datos3['Área sembrada (ha)'] = datos3['Área sembrada (ha)'].fillna(0)\n",
        "\n",
        "# Group by normalized crop and sum planted area\n",
        "top_10_crops = datos3.groupby('Cultivo_normalized')['Área sembrada (ha)'].sum()\n",
        "\n",
        "# Sort in descending order and select the top 10\n",
        "top_10_crops = top_10_crops.sort_values(ascending=False).head(10)\n",
        "\n",
        "# Create a bar chart\n",
        "plt.figure(figsize=(12, 6))\n",
        "sns.barplot(x=top_10_crops.index, y=top_10_crops.values, palette=\"viridis\")\n",
        "\n",
        "\n",
        "# Add labels and title\n",
        "plt.xlabel(\"Cultivo\")\n",
        "plt.ylabel(\"Área sembrada total (ha)\")\n",
        "plt.title(\"Top 10 Cultivos con Mayor Área Sembrada (2006-2024)\")\n",
        "plt.xticks(rotation=45, ha='right')\n",
        "plt.tight_layout() # Adjust layout to prevent labels overlapping\n",
        "plt.show()"
      ],
      "metadata": {
        "collapsed": true,
        "id": "ARWqMhN41spb"
      },
      "execution_count": null,
      "outputs": []
    },
    {
      "cell_type": "code",
      "source": [
        "import plotly.express as px\n",
        "\n",
        "# Ensure 'Área sembrada (ha)' is numeric and handle missing values\n",
        "datos3['Área sembrada (ha)'] = pd.to_numeric(datos3['Área sembrada (ha)'], errors='coerce')\n",
        "datos3['Área sembrada (ha)'] = datos3['Área sembrada (ha)'].fillna(0) # Fill NaN with 0\n",
        "\n",
        "# Group by normalized crop and sum planted area\n",
        "top_10_crops = datos3.groupby('Cultivo_normalized')['Área sembrada (ha)'].sum()\n",
        "\n",
        "# Sort in descending order and select the top 10\n",
        "top_10_crops = top_10_crops.sort_values(ascending=False).head(10)\n",
        "\n",
        "# Convert the Series to a DataFrame for Plotly\n",
        "top_10_crops_df = top_10_crops.reset_index()\n",
        "top_10_crops_df.columns = ['Cultivo', 'Área Sembrada Total (ha)']\n",
        "\n",
        "# Create an interactive bar chart using Plotly Express\n",
        "fig = px.bar(top_10_crops_df,\n",
        "             x='Cultivo',\n",
        "             y='Área Sembrada Total (ha)',\n",
        "             title='Top 10 Cultivos con Mayor Área Sembrada (2006-2024)')\n",
        "\n",
        "# Show the plot\n",
        "fig.show()"
      ],
      "metadata": {
        "colab": {
          "base_uri": "https://localhost:8080/",
          "height": 542
        },
        "id": "kE5btf_AVPDR",
        "outputId": "4a6c04bc-c654-407b-af74-cf02748854f2"
      },
      "execution_count": 11,
      "outputs": [
        {
          "output_type": "display_data",
          "data": {
            "text/html": [
              "<html>\n",
              "<head><meta charset=\"utf-8\" /></head>\n",
              "<body>\n",
              "    <div>            <script src=\"https://cdnjs.cloudflare.com/ajax/libs/mathjax/2.7.5/MathJax.js?config=TeX-AMS-MML_SVG\"></script><script type=\"text/javascript\">if (window.MathJax && window.MathJax.Hub && window.MathJax.Hub.Config) {window.MathJax.Hub.Config({SVG: {font: \"STIX-Web\"}});}</script>                <script type=\"text/javascript\">window.PlotlyConfig = {MathJaxConfig: 'local'};</script>\n",
              "        <script charset=\"utf-8\" src=\"https://cdn.plot.ly/plotly-2.35.2.min.js\"></script>                <div id=\"88d24a97-75b6-4687-b16f-aa381e75e00b\" class=\"plotly-graph-div\" style=\"height:525px; width:100%;\"></div>            <script type=\"text/javascript\">                                    window.PLOTLYENV=window.PLOTLYENV || {};                                    if (document.getElementById(\"88d24a97-75b6-4687-b16f-aa381e75e00b\")) {                    Plotly.newPlot(                        \"88d24a97-75b6-4687-b16f-aa381e75e00b\",                        [{\"alignmentgroup\":\"True\",\"hovertemplate\":\"Cultivo=%{x}\\u003cbr\\u003eÁrea Sembrada Total (ha)=%{y}\\u003cextra\\u003e\\u003c\\u002fextra\\u003e\",\"legendgroup\":\"\",\"marker\":{\"color\":\"#636efa\",\"pattern\":{\"shape\":\"\"}},\"name\":\"\",\"offsetgroup\":\"\",\"orientation\":\"v\",\"showlegend\":false,\"textposition\":\"auto\",\"x\":[\"CAFE\",\"ARROZ\",\"MAIZ\",\"PALMA DE ACEITE\",\"PLATANO\",\"YUCA\",\"CACAO\",\"PAPA\",\"CANA\",\"CANA PANELERA\"],\"xaxis\":\"x\",\"y\":[16014408.667550415,10919929.203630615,10879069.816356078,10039306.769605048,8090460.1724307705,3925707.695770264,3737506.4651444163,3335073.7103317045,3130050.91,2837352.4949331516],\"yaxis\":\"y\",\"type\":\"bar\"}],                        {\"template\":{\"data\":{\"histogram2dcontour\":[{\"type\":\"histogram2dcontour\",\"colorbar\":{\"outlinewidth\":0,\"ticks\":\"\"},\"colorscale\":[[0.0,\"#0d0887\"],[0.1111111111111111,\"#46039f\"],[0.2222222222222222,\"#7201a8\"],[0.3333333333333333,\"#9c179e\"],[0.4444444444444444,\"#bd3786\"],[0.5555555555555556,\"#d8576b\"],[0.6666666666666666,\"#ed7953\"],[0.7777777777777778,\"#fb9f3a\"],[0.8888888888888888,\"#fdca26\"],[1.0,\"#f0f921\"]]}],\"choropleth\":[{\"type\":\"choropleth\",\"colorbar\":{\"outlinewidth\":0,\"ticks\":\"\"}}],\"histogram2d\":[{\"type\":\"histogram2d\",\"colorbar\":{\"outlinewidth\":0,\"ticks\":\"\"},\"colorscale\":[[0.0,\"#0d0887\"],[0.1111111111111111,\"#46039f\"],[0.2222222222222222,\"#7201a8\"],[0.3333333333333333,\"#9c179e\"],[0.4444444444444444,\"#bd3786\"],[0.5555555555555556,\"#d8576b\"],[0.6666666666666666,\"#ed7953\"],[0.7777777777777778,\"#fb9f3a\"],[0.8888888888888888,\"#fdca26\"],[1.0,\"#f0f921\"]]}],\"heatmap\":[{\"type\":\"heatmap\",\"colorbar\":{\"outlinewidth\":0,\"ticks\":\"\"},\"colorscale\":[[0.0,\"#0d0887\"],[0.1111111111111111,\"#46039f\"],[0.2222222222222222,\"#7201a8\"],[0.3333333333333333,\"#9c179e\"],[0.4444444444444444,\"#bd3786\"],[0.5555555555555556,\"#d8576b\"],[0.6666666666666666,\"#ed7953\"],[0.7777777777777778,\"#fb9f3a\"],[0.8888888888888888,\"#fdca26\"],[1.0,\"#f0f921\"]]}],\"heatmapgl\":[{\"type\":\"heatmapgl\",\"colorbar\":{\"outlinewidth\":0,\"ticks\":\"\"},\"colorscale\":[[0.0,\"#0d0887\"],[0.1111111111111111,\"#46039f\"],[0.2222222222222222,\"#7201a8\"],[0.3333333333333333,\"#9c179e\"],[0.4444444444444444,\"#bd3786\"],[0.5555555555555556,\"#d8576b\"],[0.6666666666666666,\"#ed7953\"],[0.7777777777777778,\"#fb9f3a\"],[0.8888888888888888,\"#fdca26\"],[1.0,\"#f0f921\"]]}],\"contourcarpet\":[{\"type\":\"contourcarpet\",\"colorbar\":{\"outlinewidth\":0,\"ticks\":\"\"}}],\"contour\":[{\"type\":\"contour\",\"colorbar\":{\"outlinewidth\":0,\"ticks\":\"\"},\"colorscale\":[[0.0,\"#0d0887\"],[0.1111111111111111,\"#46039f\"],[0.2222222222222222,\"#7201a8\"],[0.3333333333333333,\"#9c179e\"],[0.4444444444444444,\"#bd3786\"],[0.5555555555555556,\"#d8576b\"],[0.6666666666666666,\"#ed7953\"],[0.7777777777777778,\"#fb9f3a\"],[0.8888888888888888,\"#fdca26\"],[1.0,\"#f0f921\"]]}],\"surface\":[{\"type\":\"surface\",\"colorbar\":{\"outlinewidth\":0,\"ticks\":\"\"},\"colorscale\":[[0.0,\"#0d0887\"],[0.1111111111111111,\"#46039f\"],[0.2222222222222222,\"#7201a8\"],[0.3333333333333333,\"#9c179e\"],[0.4444444444444444,\"#bd3786\"],[0.5555555555555556,\"#d8576b\"],[0.6666666666666666,\"#ed7953\"],[0.7777777777777778,\"#fb9f3a\"],[0.8888888888888888,\"#fdca26\"],[1.0,\"#f0f921\"]]}],\"mesh3d\":[{\"type\":\"mesh3d\",\"colorbar\":{\"outlinewidth\":0,\"ticks\":\"\"}}],\"scatter\":[{\"fillpattern\":{\"fillmode\":\"overlay\",\"size\":10,\"solidity\":0.2},\"type\":\"scatter\"}],\"parcoords\":[{\"type\":\"parcoords\",\"line\":{\"colorbar\":{\"outlinewidth\":0,\"ticks\":\"\"}}}],\"scatterpolargl\":[{\"type\":\"scatterpolargl\",\"marker\":{\"colorbar\":{\"outlinewidth\":0,\"ticks\":\"\"}}}],\"bar\":[{\"error_x\":{\"color\":\"#2a3f5f\"},\"error_y\":{\"color\":\"#2a3f5f\"},\"marker\":{\"line\":{\"color\":\"#E5ECF6\",\"width\":0.5},\"pattern\":{\"fillmode\":\"overlay\",\"size\":10,\"solidity\":0.2}},\"type\":\"bar\"}],\"scattergeo\":[{\"type\":\"scattergeo\",\"marker\":{\"colorbar\":{\"outlinewidth\":0,\"ticks\":\"\"}}}],\"scatterpolar\":[{\"type\":\"scatterpolar\",\"marker\":{\"colorbar\":{\"outlinewidth\":0,\"ticks\":\"\"}}}],\"histogram\":[{\"marker\":{\"pattern\":{\"fillmode\":\"overlay\",\"size\":10,\"solidity\":0.2}},\"type\":\"histogram\"}],\"scattergl\":[{\"type\":\"scattergl\",\"marker\":{\"colorbar\":{\"outlinewidth\":0,\"ticks\":\"\"}}}],\"scatter3d\":[{\"type\":\"scatter3d\",\"line\":{\"colorbar\":{\"outlinewidth\":0,\"ticks\":\"\"}},\"marker\":{\"colorbar\":{\"outlinewidth\":0,\"ticks\":\"\"}}}],\"scattermapbox\":[{\"type\":\"scattermapbox\",\"marker\":{\"colorbar\":{\"outlinewidth\":0,\"ticks\":\"\"}}}],\"scatterternary\":[{\"type\":\"scatterternary\",\"marker\":{\"colorbar\":{\"outlinewidth\":0,\"ticks\":\"\"}}}],\"scattercarpet\":[{\"type\":\"scattercarpet\",\"marker\":{\"colorbar\":{\"outlinewidth\":0,\"ticks\":\"\"}}}],\"carpet\":[{\"aaxis\":{\"endlinecolor\":\"#2a3f5f\",\"gridcolor\":\"white\",\"linecolor\":\"white\",\"minorgridcolor\":\"white\",\"startlinecolor\":\"#2a3f5f\"},\"baxis\":{\"endlinecolor\":\"#2a3f5f\",\"gridcolor\":\"white\",\"linecolor\":\"white\",\"minorgridcolor\":\"white\",\"startlinecolor\":\"#2a3f5f\"},\"type\":\"carpet\"}],\"table\":[{\"cells\":{\"fill\":{\"color\":\"#EBF0F8\"},\"line\":{\"color\":\"white\"}},\"header\":{\"fill\":{\"color\":\"#C8D4E3\"},\"line\":{\"color\":\"white\"}},\"type\":\"table\"}],\"barpolar\":[{\"marker\":{\"line\":{\"color\":\"#E5ECF6\",\"width\":0.5},\"pattern\":{\"fillmode\":\"overlay\",\"size\":10,\"solidity\":0.2}},\"type\":\"barpolar\"}],\"pie\":[{\"automargin\":true,\"type\":\"pie\"}]},\"layout\":{\"autotypenumbers\":\"strict\",\"colorway\":[\"#636efa\",\"#EF553B\",\"#00cc96\",\"#ab63fa\",\"#FFA15A\",\"#19d3f3\",\"#FF6692\",\"#B6E880\",\"#FF97FF\",\"#FECB52\"],\"font\":{\"color\":\"#2a3f5f\"},\"hovermode\":\"closest\",\"hoverlabel\":{\"align\":\"left\"},\"paper_bgcolor\":\"white\",\"plot_bgcolor\":\"#E5ECF6\",\"polar\":{\"bgcolor\":\"#E5ECF6\",\"angularaxis\":{\"gridcolor\":\"white\",\"linecolor\":\"white\",\"ticks\":\"\"},\"radialaxis\":{\"gridcolor\":\"white\",\"linecolor\":\"white\",\"ticks\":\"\"}},\"ternary\":{\"bgcolor\":\"#E5ECF6\",\"aaxis\":{\"gridcolor\":\"white\",\"linecolor\":\"white\",\"ticks\":\"\"},\"baxis\":{\"gridcolor\":\"white\",\"linecolor\":\"white\",\"ticks\":\"\"},\"caxis\":{\"gridcolor\":\"white\",\"linecolor\":\"white\",\"ticks\":\"\"}},\"coloraxis\":{\"colorbar\":{\"outlinewidth\":0,\"ticks\":\"\"}},\"colorscale\":{\"sequential\":[[0.0,\"#0d0887\"],[0.1111111111111111,\"#46039f\"],[0.2222222222222222,\"#7201a8\"],[0.3333333333333333,\"#9c179e\"],[0.4444444444444444,\"#bd3786\"],[0.5555555555555556,\"#d8576b\"],[0.6666666666666666,\"#ed7953\"],[0.7777777777777778,\"#fb9f3a\"],[0.8888888888888888,\"#fdca26\"],[1.0,\"#f0f921\"]],\"sequentialminus\":[[0.0,\"#0d0887\"],[0.1111111111111111,\"#46039f\"],[0.2222222222222222,\"#7201a8\"],[0.3333333333333333,\"#9c179e\"],[0.4444444444444444,\"#bd3786\"],[0.5555555555555556,\"#d8576b\"],[0.6666666666666666,\"#ed7953\"],[0.7777777777777778,\"#fb9f3a\"],[0.8888888888888888,\"#fdca26\"],[1.0,\"#f0f921\"]],\"diverging\":[[0,\"#8e0152\"],[0.1,\"#c51b7d\"],[0.2,\"#de77ae\"],[0.3,\"#f1b6da\"],[0.4,\"#fde0ef\"],[0.5,\"#f7f7f7\"],[0.6,\"#e6f5d0\"],[0.7,\"#b8e186\"],[0.8,\"#7fbc41\"],[0.9,\"#4d9221\"],[1,\"#276419\"]]},\"xaxis\":{\"gridcolor\":\"white\",\"linecolor\":\"white\",\"ticks\":\"\",\"title\":{\"standoff\":15},\"zerolinecolor\":\"white\",\"automargin\":true,\"zerolinewidth\":2},\"yaxis\":{\"gridcolor\":\"white\",\"linecolor\":\"white\",\"ticks\":\"\",\"title\":{\"standoff\":15},\"zerolinecolor\":\"white\",\"automargin\":true,\"zerolinewidth\":2},\"scene\":{\"xaxis\":{\"backgroundcolor\":\"#E5ECF6\",\"gridcolor\":\"white\",\"linecolor\":\"white\",\"showbackground\":true,\"ticks\":\"\",\"zerolinecolor\":\"white\",\"gridwidth\":2},\"yaxis\":{\"backgroundcolor\":\"#E5ECF6\",\"gridcolor\":\"white\",\"linecolor\":\"white\",\"showbackground\":true,\"ticks\":\"\",\"zerolinecolor\":\"white\",\"gridwidth\":2},\"zaxis\":{\"backgroundcolor\":\"#E5ECF6\",\"gridcolor\":\"white\",\"linecolor\":\"white\",\"showbackground\":true,\"ticks\":\"\",\"zerolinecolor\":\"white\",\"gridwidth\":2}},\"shapedefaults\":{\"line\":{\"color\":\"#2a3f5f\"}},\"annotationdefaults\":{\"arrowcolor\":\"#2a3f5f\",\"arrowhead\":0,\"arrowwidth\":1},\"geo\":{\"bgcolor\":\"white\",\"landcolor\":\"#E5ECF6\",\"subunitcolor\":\"white\",\"showland\":true,\"showlakes\":true,\"lakecolor\":\"white\"},\"title\":{\"x\":0.05},\"mapbox\":{\"style\":\"light\"}}},\"xaxis\":{\"anchor\":\"y\",\"domain\":[0.0,1.0],\"title\":{\"text\":\"Cultivo\"}},\"yaxis\":{\"anchor\":\"x\",\"domain\":[0.0,1.0],\"title\":{\"text\":\"Área Sembrada Total (ha)\"}},\"legend\":{\"tracegroupgap\":0},\"title\":{\"text\":\"Top 10 Cultivos con Mayor Área Sembrada (2006-2024)\"},\"barmode\":\"relative\"},                        {\"responsive\": true}                    ).then(function(){\n",
              "                            \n",
              "var gd = document.getElementById('88d24a97-75b6-4687-b16f-aa381e75e00b');\n",
              "var x = new MutationObserver(function (mutations, observer) {{\n",
              "        var display = window.getComputedStyle(gd).display;\n",
              "        if (!display || display === 'none') {{\n",
              "            console.log([gd, 'removed!']);\n",
              "            Plotly.purge(gd);\n",
              "            observer.disconnect();\n",
              "        }}\n",
              "}});\n",
              "\n",
              "// Listen for the removal of the full notebook cells\n",
              "var notebookContainer = gd.closest('#notebook-container');\n",
              "if (notebookContainer) {{\n",
              "    x.observe(notebookContainer, {childList: true});\n",
              "}}\n",
              "\n",
              "// Listen for the clearing of the current output cell\n",
              "var outputEl = gd.closest('.output');\n",
              "if (outputEl) {{\n",
              "    x.observe(outputEl, {childList: true});\n",
              "}}\n",
              "\n",
              "                        })                };                            </script>        </div>\n",
              "</body>\n",
              "</html>"
            ]
          },
          "metadata": {}
        }
      ]
    }
  ]
}